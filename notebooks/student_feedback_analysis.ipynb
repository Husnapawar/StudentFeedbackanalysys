{
 "cells": [
  {
   "cell_type": "markdown",
   "metadata": {},
   "source": [
    "# Student Feedback Analysis\n",
    "\n",
    "This notebook demonstrates the analysis of student feedback using both supervised and unsupervised machine learning techniques."
   ]
  },
  {
   "cell_type": "markdown",
   "metadata": {},
   "source": [
    "## 1. Setup and Data Loading"
   ]
  },
  {
   "cell_type": "code",
   "execution_count": null,
   "metadata": {},
   "source": [
    "# Import necessary libraries\n",
    "import os\n",
    "import sys\n",
    "import pandas as pd\n",
    "import numpy as np\n",
    "import matplotlib.pyplot as plt\n",
    "import seaborn as sns\n",
    "\n",
    "# Add the src directory to the path so we can import our modules\n",
    "sys.path.append('..')\n",
    "\n",
    "# Set plot style\n",
    "plt.style.use('ggplot')\n",
    "%matplotlib inline"
   ]
  },
  {
   "cell_type": "code",
   "execution_count": null,
   "metadata": {},
   "source": [
    "# Import project modules\n",
    "from src.utils.data_generator import generate_sample_feedback\n",
    "from src.preprocessing.text_processor import TextProcessor, extract_features\n",
    "from src.models.supervised_models import SentimentClassifier, FeedbackCategorizer\n",
    "from src.models.unsupervised_models import TopicModeler, FeedbackClusterer, DimensionalityReducer\n",
    "from src.evaluation.metrics import evaluate_classification, evaluate_clustering, evaluate_topic_model\n",
    "from src.visualization.visualizer import (\n",
    "    plot_sentiment_distribution, plot_category_distribution,\n",
    "    plot_wordcloud, plot_topic_wordcloud, plot_cluster_visualization,\n",
    "    plot_confusion_matrix, plot_rating_distribution\n",
    ")"
   ]
  },
  {
   "cell_type": "code",
   "execution_count": null,
   "metadata": {},
   "source": [
    "# Generate or load sample data\n",
    "data_path = '../data/sample_feedback.csv'\n",
    "if not os.path.exists(data_path):\n",
    "    print(\"Generating sample feedback data...\")\n",
    "    df = generate_sample_feedback(n_samples=1000, output_path=data_path)\n",
    "else:\n",
    "    print(\"Loading existing feedback data...\")\n",
    "    df = pd.read_csv(data_path)\n",
    "\n",
    "print(f\"Loaded {len(df)} feedback samples\")\n",
    "df.head()"
   ]
  },
  {
   "cell_type": "markdown",
   "metadata": {},
   "source": [
    "## 2. Exploratory Data Analysis"
   ]
  },
  {
   "cell_type": "code",
   "execution_count": null,
   "metadata": {},
   "source": [
    "# Basic statistics\n",
    "print(\"Dataset shape:\", df.shape)\n",
    "print(\"\\nColumns:\")\n",
    "for col in df.columns:\n",
    "    print(f\"- {col}\")\n",
    "\n",
    "print(\"\\nMissing values:\")\n",
    "print(df.isnull().sum())"
   ]
  },
  {
   "cell_type": "code",
   "execution_count": null,
   "metadata": {},
   "source": [
    "# Visualize sentiment distribution\n",
    "plot_sentiment_distribution(df['true_sentiment'])"
   ]
  },
  {
   "cell_type": "code",
   "execution_count": null,
   "metadata": {},
   "source": [
    "# Visualize category distribution\n",
    "plot_category_distribution(df['true_category'])"
   ]
  },
  {
   "cell_type": "code",
   "execution_count": null,
   "metadata": {},
   "source": [
    "# Visualize rating distribution\n",
    "plot_rating_distribution(df['rating'])"
   ]
  },
  {
   "cell_type": "code",
   "execution_count": null,
   "metadata": {},
   "source": [
    "# Analyze relationship between rating and sentiment\n",
    "plt.figure(figsize=(10, 6))\n",
    "sns.boxplot(x='true_sentiment', y='rating', data=df)\n",
    "plt.title('Rating Distribution by Sentiment')\n",
    "plt.xlabel('Sentiment')\n",
    "plt.ylabel('Rating')\n",
    "plt.show()"
   ]
  },
  {
   "cell_type": "code",
   "execution_count": null,
   "metadata": {},
   "source": [
    "# Analyze relationship between subject and sentiment\n",
    "plt.figure(figsize=(12, 8))\n",
    "sentiment_by_subject = pd.crosstab(df['subject'], df['true_sentiment'])\n",
    "sentiment_by_subject_pct = sentiment_by_subject.div(sentiment_by_subject.sum(axis=1), axis=0)\n",
    "sentiment_by_subject_pct.plot(kind='bar', stacked=True)\n",
    "plt.title('Sentiment Distribution by Subject')\n",
    "plt.xlabel('Subject')\n",
    "plt.ylabel('Percentage')\n",
    "plt.xticks(rotation=45)\n",
    "plt.legend(title='Sentiment')\n",
    "plt.show()"
   ]
  },
  {
   "cell_type": "markdown",
   "metadata": {},
   "source": [
    "## 3. Text Preprocessing"
   ]
  },
  {
   "cell_type": "code",
   "execution_count": null,
   "metadata": {},
   "source": [
    "# Initialize text processor\n",
    "text_processor = TextProcessor(\n",
    "    remove_stopwords=True,\n",
    "    remove_punctuation=True,\n",
    "    lemmatize=True,\n",
    "    stem=False,\n",
    "    lowercase=True\n",
    ")\n",
    "\n",
    "# Preprocess the text data\n",
    "df = text_processor.preprocess_dataframe(df, 'feedback_text')"
   ]
  },
  {
   "cell_type": "code",
   "execution_count": null,
   "metadata": {},
   "source": [
    "# Compare original and processed text\n",
    "for i, (original, processed) in enumerate(zip(df['feedback_text'].head(5), df['processed_text'].head(5))):\n",
    "    print(f\"\\nOriginal [{i+1}]: {original}\")\n",
    "    print(f\"Processed [{i+1}]: {processed}\")"
   ]
  },
  {
   "cell_type": "code",
   "execution_count": null,
   "metadata": {},
   "source": [
    "# Generate word cloud of all feedback\n",
    "plot_wordcloud(df['processed_text'].str.cat(sep=' '))"
   ]
  },
  {
   "cell_type": "code",
   "execution_count": null,
   "metadata": {},
   "source": [
    "# Generate word clouds by sentiment\n",
    "plt.figure(figsize=(15, 12))\n",
    "\n",
    "for i, sentiment in enumerate(['Positive', 'Neutral', 'Negative']):\n",
    "    plt.subplot(1, 3, i+1)\n",
    "    sentiment_text = df[df['true_sentiment'] == sentiment]['processed_text'].str.cat(sep=' ')\n",
    "    wordcloud = WordCloud(width=800, height=400, background_color='white').generate(sentiment_text)\n",
    "    plt.imshow(wordcloud, interpolation='bilinear')\n",
    "    plt.axis('off')\n",
    "    plt.title(f'{sentiment} Feedback')\n",
    "\n",
    "plt.tight_layout()\n",
    "plt.show()"
   ]
  }
 ],
 "metadata": {
  "kernelspec": {
   "display_name": "Python 3",
   "language": "python",
   "name": "python3"
  },
  "language_info": {
   "codemirror_mode": {
    "name": "ipython",
    "version": 3
   },
   "file_extension": ".py",
   "mimetype": "text/x-python",
   "name": "python",
   "nbconvert_exporter": "python",
   "pygments_lexer": "ipython3",
   "version": "3.8.10"
  }
 },
 "nbformat": 4,
 "nbformat_minor": 4
}
